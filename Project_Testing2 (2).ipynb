{
  "cells": [
    {
      "cell_type": "code",
      "execution_count": 1,
      "metadata": {
        "colab": {
          "base_uri": "https://localhost:8080/"
        },
        "id": "VxeICokW8xCX",
        "outputId": "b2ebb697-647a-4446-fd5b-a7023fea42f6"
      },
      "outputs": [
        {
          "output_type": "stream",
          "name": "stdout",
          "text": [
            "Collecting opendatasets\n",
            "  Downloading opendatasets-0.1.22-py3-none-any.whl.metadata (9.2 kB)\n",
            "Requirement already satisfied: tqdm in /usr/local/lib/python3.10/dist-packages (from opendatasets) (4.66.5)\n",
            "Requirement already satisfied: kaggle in /usr/local/lib/python3.10/dist-packages (from opendatasets) (1.6.17)\n",
            "Requirement already satisfied: click in /usr/local/lib/python3.10/dist-packages (from opendatasets) (8.1.7)\n",
            "Requirement already satisfied: six>=1.10 in /usr/local/lib/python3.10/dist-packages (from kaggle->opendatasets) (1.16.0)\n",
            "Requirement already satisfied: certifi>=2023.7.22 in /usr/local/lib/python3.10/dist-packages (from kaggle->opendatasets) (2024.7.4)\n",
            "Requirement already satisfied: python-dateutil in /usr/local/lib/python3.10/dist-packages (from kaggle->opendatasets) (2.8.2)\n",
            "Requirement already satisfied: requests in /usr/local/lib/python3.10/dist-packages (from kaggle->opendatasets) (2.32.3)\n",
            "Requirement already satisfied: python-slugify in /usr/local/lib/python3.10/dist-packages (from kaggle->opendatasets) (8.0.4)\n",
            "Requirement already satisfied: urllib3 in /usr/local/lib/python3.10/dist-packages (from kaggle->opendatasets) (2.0.7)\n",
            "Requirement already satisfied: bleach in /usr/local/lib/python3.10/dist-packages (from kaggle->opendatasets) (6.1.0)\n",
            "Requirement already satisfied: webencodings in /usr/local/lib/python3.10/dist-packages (from bleach->kaggle->opendatasets) (0.5.1)\n",
            "Requirement already satisfied: text-unidecode>=1.3 in /usr/local/lib/python3.10/dist-packages (from python-slugify->kaggle->opendatasets) (1.3)\n",
            "Requirement already satisfied: charset-normalizer<4,>=2 in /usr/local/lib/python3.10/dist-packages (from requests->kaggle->opendatasets) (3.3.2)\n",
            "Requirement already satisfied: idna<4,>=2.5 in /usr/local/lib/python3.10/dist-packages (from requests->kaggle->opendatasets) (3.8)\n",
            "Downloading opendatasets-0.1.22-py3-none-any.whl (15 kB)\n",
            "Installing collected packages: opendatasets\n",
            "Successfully installed opendatasets-0.1.22\n"
          ]
        }
      ],
      "source": [
        "pip install opendatasets"
      ]
    },
    {
      "cell_type": "code",
      "execution_count": 2,
      "metadata": {
        "id": "UdHEVz-r82Zd"
      },
      "outputs": [],
      "source": [
        "#Dataset preparation\n",
        "#User Name: chizitaraigwe\n",
        "#Authentication key: 4b1a9ab784421ff19944bd8de86ae9b3\n",
        "\n",
        "import opendatasets as opd\n",
        "import pandas as pd"
      ]
    },
    {
      "cell_type": "code",
      "execution_count": 3,
      "metadata": {
        "id": "Il67u_c89okF",
        "colab": {
          "base_uri": "https://localhost:8080/"
        },
        "outputId": "583964c9-83ae-463d-dac9-ed0c4e1ee87c"
      },
      "outputs": [
        {
          "output_type": "stream",
          "name": "stdout",
          "text": [
            "Please provide your Kaggle credentials to download this dataset. Learn more: http://bit.ly/kaggle-creds\n",
            "Your Kaggle username: s\n",
            "Your Kaggle Key: ··········\n",
            "Dataset URL: https://www.kaggle.com/datasets/volkandl/car-brand-logos\n",
            "Downloading car-brand-logos.zip to ./car-brand-logos\n"
          ]
        },
        {
          "output_type": "stream",
          "name": "stderr",
          "text": [
            "100%|██████████| 217M/217M [00:02<00:00, 92.0MB/s]\n"
          ]
        },
        {
          "output_type": "stream",
          "name": "stdout",
          "text": [
            "\n"
          ]
        }
      ],
      "source": [
        "opd.download(\"https://www.kaggle.com/datasets/volkandl/car-brand-logos\")"
      ]
    },
    {
      "cell_type": "code",
      "execution_count": 4,
      "metadata": {
        "id": "9yKWKYumJ3gE",
        "colab": {
          "base_uri": "https://localhost:8080/"
        },
        "outputId": "a6798e9a-2d55-462a-8478-33b121b57523"
      },
      "outputs": [
        {
          "output_type": "stream",
          "name": "stdout",
          "text": [
            "Please provide your Kaggle credentials to download this dataset. Learn more: http://bit.ly/kaggle-creds\n",
            "Your Kaggle username: \n",
            "Your Kaggle username: s\n",
            "Your Kaggle Key: ··········\n",
            "Dataset URL: https://www.kaggle.com/datasets/kaggleashwin/vehicle-type-recognition\n",
            "Downloading vehicle-type-recognition.zip to ./vehicle-type-recognition\n"
          ]
        },
        {
          "output_type": "stream",
          "name": "stderr",
          "text": [
            "100%|██████████| 159M/159M [00:02<00:00, 77.4MB/s]\n"
          ]
        },
        {
          "output_type": "stream",
          "name": "stdout",
          "text": [
            "\n"
          ]
        }
      ],
      "source": [
        "opd.download(\"https://www.kaggle.com/datasets/kaggleashwin/vehicle-type-recognition\")"
      ]
    },
    {
      "cell_type": "code",
      "source": [
        "opd.download(\"https://www.kaggle.com/datasets/kshitij192/cars-image-dataset\")"
      ],
      "metadata": {
        "colab": {
          "base_uri": "https://localhost:8080/"
        },
        "id": "4xq_AKELpIGQ",
        "outputId": "db8f93e4-acf4-42fa-fa45-6bf089769e4b"
      },
      "execution_count": 5,
      "outputs": [
        {
          "output_type": "stream",
          "name": "stdout",
          "text": [
            "Please provide your Kaggle credentials to download this dataset. Learn more: http://bit.ly/kaggle-creds\n",
            "Your Kaggle username: s\n",
            "Your Kaggle Key: ··········\n",
            "Dataset URL: https://www.kaggle.com/datasets/kshitij192/cars-image-dataset\n",
            "Downloading cars-image-dataset.zip to ./cars-image-dataset\n"
          ]
        },
        {
          "output_type": "stream",
          "name": "stderr",
          "text": [
            "100%|██████████| 36.3M/36.3M [00:00<00:00, 54.4MB/s]"
          ]
        },
        {
          "output_type": "stream",
          "name": "stdout",
          "text": [
            "\n"
          ]
        },
        {
          "output_type": "stream",
          "name": "stderr",
          "text": [
            "\n"
          ]
        }
      ]
    },
    {
      "cell_type": "code",
      "execution_count": 6,
      "metadata": {
        "id": "AZR1kDy9fdZy"
      },
      "outputs": [],
      "source": [
        "# #Data of Toyota cars\n",
        "# opd.download(\"https://www.kaggle.com/datasets/occultainsights/toyota-cars-over-20k-labeled-images\")"
      ]
    },
    {
      "cell_type": "code",
      "execution_count": 7,
      "metadata": {
        "id": "u4RgLOb0HkC6"
      },
      "outputs": [],
      "source": [
        "# opd.download(\"https://www.kaggle.com/datasets/occultainsights/bmw-cars-over-11k-labeled-images\")"
      ]
    },
    {
      "cell_type": "code",
      "execution_count": 8,
      "metadata": {
        "id": "wQZ8zOik97JB",
        "colab": {
          "base_uri": "https://localhost:8080/"
        },
        "outputId": "bebda971-8ddc-4be9-9a1f-12abf530b25c"
      },
      "outputs": [
        {
          "output_type": "stream",
          "name": "stdout",
          "text": [
            "/content\n"
          ]
        }
      ],
      "source": [
        "import os\n",
        "os.chdir('/content')\n",
        "print(os.getcwd())"
      ]
    },
    {
      "cell_type": "code",
      "execution_count": 9,
      "metadata": {
        "id": "0jvwOtYe-Wom"
      },
      "outputs": [],
      "source": [
        "#Now to retrieve the dataset and collect the information\n",
        "import torch\n",
        "from PIL import Image\n",
        "import torch.utils.data as data\n",
        "from torchvision import datasets\n",
        "from torchvision.transforms import Compose, ToTensor, Normalize, Resize\n",
        "class Place2_Data(data.Dataset):\n",
        "    def __init__(self, root, transforms=None):\n",
        "        # location of the dataset\n",
        "        self.root = root\n",
        "        # list of classes\n",
        "        self.classes= (os.listdir(self.root))\n",
        "        self.classes_to_num= {c:i for i,c in enumerate(self.classes)}\n",
        "\n",
        "        # all images\n",
        "        self.all_images= [(os.path.join(root, c, img), self.classes_to_num[c]) for c in self.classes for img in os.listdir(os.path.join(root, c))]\n",
        "        # transforms\n",
        "        self.transforms = transforms\n",
        "\n",
        "    def __getitem__(self, index):\n",
        "      image, classes = self.all_images[index]\n",
        "      image = Image.open(image).convert(mode=\"RGB\")\n",
        "      #img = Image.open(img_path).convert('RGB')\n",
        "      # apply transformation\n",
        "      if self.transforms:\n",
        "          image = self.transforms(image)\n",
        "      # return the image and class\n",
        "      return image, classes\n",
        "\n",
        "    def __len__(self):\n",
        "        # return the total number of images\n",
        "        return len(self.all_images)"
      ]
    },
    {
      "cell_type": "code",
      "execution_count": 10,
      "metadata": {
        "id": "dnf2eVkQXG7C"
      },
      "outputs": [],
      "source": [
        "import torch\n",
        "import torch.nn as nn\n",
        "import torch.optim as optim\n",
        "from torch.utils.data import DataLoader, random_split\n",
        "from torchvision import transforms, models\n",
        "import matplotlib.pyplot as plt\n",
        "from tqdm import tqdm\n",
        "class ResNet50Multiclass(nn.Module):\n",
        "    def __init__(self, num_brand_classes, num_type_classes):\n",
        "        super(ResNet50Multiclass, self).__init__()\n",
        "        self.model = models.resnet50(pretrained=True)\n",
        "        # Remove the original fully connected layer\n",
        "        self.model = nn.Sequential(*list(self.model.children())[:-1])\n",
        "        in_features = 2048  # Output from resnet50 after the average pooling layer\n",
        "\n",
        "        # Define two fully connected layers for car brands and car types\n",
        "        self.fc_brand = nn.Linear(in_features, num_brand_classes)\n",
        "        self.fc_type = nn.Linear(in_features, num_type_classes)\n",
        "\n",
        "    def forward(self, x):\n",
        "        features = self.model(x)\n",
        "        features = features.view(features.size(0), -1)  # Flatten the features\n",
        "        brand_output = self.fc_brand(features)\n",
        "        type_output = self.fc_type(features)\n",
        "        return brand_output, type_output"
      ]
    },
    {
      "cell_type": "code",
      "source": [
        "# import torchsummary as summary\n",
        "# resnet = ResNet50Multiclass(num_brand_classes=len(logoTrainData.classes), num_type_classes=len(carData.classes))\n",
        "# resnet.to(device)\n",
        "# summary.summary(resnet,input_size=(3,224,224))"
      ],
      "metadata": {
        "id": "beqYjyb5iprA"
      },
      "execution_count": 11,
      "outputs": []
    },
    {
      "cell_type": "code",
      "execution_count": 12,
      "metadata": {
        "id": "nk63zFxU-ZXz"
      },
      "outputs": [],
      "source": [
        "#Define the dataset for the car logos\n",
        "import torch\n",
        "import torchvision\n",
        "from torch.utils.data import DataLoader, random_split\n",
        "from torchvision import transforms\n",
        "from torchvision.transforms import Compose, ToTensor, Normalize, Resize, RandomAffine, RandomRotation\n",
        "image_transform = transforms.Compose([\n",
        "    transforms.Resize((224, 224)),  # Resize all images to 224x224\n",
        "    transforms.ToTensor(),\n",
        "    transforms.Normalize(mean=[0.485, 0.456, 0.406], std=[0.229, 0.224, 0.225])\n",
        "])"
      ]
    },
    {
      "cell_type": "code",
      "execution_count": 13,
      "metadata": {
        "id": "GoBiztIZ-Kye"
      },
      "outputs": [],
      "source": [
        "carImageData = \"/content/vehicle-type-recognition/Dataset\"\n",
        "carTrainLogoData = \"/content/car-brand-logos/Car_Brand_Logos/Train\"\n",
        "carTestLogoData = \"/content/car-brand-logos/Car_Brand_Logos/Test\""
      ]
    },
    {
      "cell_type": "code",
      "execution_count": 14,
      "metadata": {
        "id": "CtbfxAeV1MVV"
      },
      "outputs": [],
      "source": [
        "# Create datasets\n",
        "logoTrainData = Place2_Data(carTrainLogoData, transforms=image_transform)\n",
        "logoTest = Place2_Data(carTestLogoData, transforms=image_transform)\n",
        "carData = Place2_Data(carImageData, transforms=image_transform)"
      ]
    },
    {
      "cell_type": "code",
      "execution_count": 15,
      "metadata": {
        "id": "xUn47BMt3pno"
      },
      "outputs": [],
      "source": [
        "# Split datasets into training, validation, and test sets\n",
        "train_size = int(0.8 * len(carData))\n",
        "test_val_size = len(carData) - train_size\n",
        "train_data, test_val_data = random_split(carData, [train_size, test_val_size])\n",
        "\n",
        "val_size = int(0.5 * len(test_val_data))\n",
        "test_size = len(test_val_data) - val_size\n",
        "val_data, test_data = random_split(test_val_data, [val_size, test_size])"
      ]
    },
    {
      "cell_type": "code",
      "execution_count": 16,
      "metadata": {
        "id": "t0snxYZt3vz6"
      },
      "outputs": [],
      "source": [
        "# Create data loaders for both models\n",
        "train_loader_type = DataLoader(train_data, batch_size=32, shuffle=True)\n",
        "val_loader_type = DataLoader(val_data, batch_size=32, shuffle=True)\n",
        "test_loader_type = DataLoader(test_data, batch_size=32, shuffle=False)\n",
        "\n",
        "train_loader_logo = DataLoader(logoTrainData, batch_size=32, shuffle=True)\n",
        "test_loader_logo = DataLoader(logoTest, batch_size=32, shuffle=False)"
      ]
    },
    {
      "cell_type": "code",
      "source": [
        "len(carData.all_images)"
      ],
      "metadata": {
        "id": "yvZezghd2BVA",
        "colab": {
          "base_uri": "https://localhost:8080/"
        },
        "outputId": "3a2e0d65-eaf7-48af-ac3a-66d3f312e4f5"
      },
      "execution_count": 17,
      "outputs": [
        {
          "output_type": "execute_result",
          "data": {
            "text/plain": [
              "400"
            ]
          },
          "metadata": {},
          "execution_count": 17
        }
      ]
    },
    {
      "cell_type": "code",
      "source": [],
      "metadata": {
        "id": "AnOoy2s42uoU"
      },
      "execution_count": 17,
      "outputs": []
    },
    {
      "cell_type": "code",
      "source": [
        "# import plot library\n",
        "import matplotlib.pyplot as plt\n",
        "# iterate the dataloader\n",
        "_, (example_datas, labels) = next(enumerate(train_loader_logo))\n",
        "# get the first data\n",
        "sample = example_datas[1]\n",
        "plt.subplot(3, 3, 1)\n",
        "plt.imshow(sample.permute(1, 2, 0))\n"
      ],
      "metadata": {
        "colab": {
          "base_uri": "https://localhost:8080/",
          "height": 210
        },
        "id": "tshYLT3NmLiD",
        "outputId": "aa7dfc33-3d89-4bd4-f1cb-5eeb51d2d86c"
      },
      "execution_count": 18,
      "outputs": [
        {
          "output_type": "stream",
          "name": "stderr",
          "text": [
            "WARNING:matplotlib.image:Clipping input data to the valid range for imshow with RGB data ([0..1] for floats or [0..255] for integers).\n"
          ]
        },
        {
          "output_type": "execute_result",
          "data": {
            "text/plain": [
              "<matplotlib.image.AxesImage at 0x7bf1d3fea9b0>"
            ]
          },
          "metadata": {},
          "execution_count": 18
        },
        {
          "output_type": "display_data",
          "data": {
            "text/plain": [
              "<Figure size 640x480 with 1 Axes>"
            ],
            "image/png": "[encoded data removed]"
          },
          "metadata": {}
        }
      ]
    },
    {
      "cell_type": "code",
      "execution_count": 19,
      "metadata": {
        "id": "T9TitAEr3zaG",
        "colab": {
          "base_uri": "https://localhost:8080/"
        },
        "outputId": "091a5ef2-c800-4449-cb83-f53403897498"
      },
      "outputs": [
        {
          "output_type": "stream",
          "name": "stderr",
          "text": [
            "/usr/local/lib/python3.10/dist-packages/torchvision/models/_utils.py:208: UserWarning: The parameter 'pretrained' is deprecated since 0.13 and may be removed in the future, please use 'weights' instead.\n",
            "  warnings.warn(\n",
            "/usr/local/lib/python3.10/dist-packages/torchvision/models/_utils.py:223: UserWarning: Arguments other than a weight enum or `None` for 'weights' are deprecated since 0.13 and may be removed in the future. The current behavior is equivalent to passing `weights=ResNet50_Weights.IMAGENET1K_V1`. You can also use `weights=ResNet50_Weights.DEFAULT` to get the most up-to-date weights.\n",
            "  warnings.warn(msg)\n",
            "Downloading: \"https://download.pytorch.org/models/resnet50-0676ba61.pth\" to /root/.cache/torch/hub/checkpoints/resnet50-0676ba61.pth\n",
            "100%|██████████| 97.8M/97.8M [00:00<00:00, 165MB/s]\n"
          ]
        }
      ],
      "source": [
        "# Define the multiclass model\n",
        "model_A = ResNet50Multiclass(num_brand_classes=len(logoTest.classes), num_type_classes=len(carData.classes))\n",
        "device = torch.device(\"cuda:0\" if torch.cuda.is_available() else \"cpu\")\n",
        "model_A = model_A.to(device)"
      ]
    },
    {
      "cell_type": "code",
      "source": [
        "model_B = ResNet50Multiclass(num_brand_classes=len(logoTrainData.classes), num_type_classes=len(carData.classes))\n",
        "model_B = model_B.to(device)"
      ],
      "metadata": {
        "id": "Ttr4Yju1KY0A"
      },
      "execution_count": 20,
      "outputs": []
    },
    {
      "cell_type": "code",
      "source": [
        "# Define loss function and optimizers\n",
        "criterion = nn.CrossEntropyLoss()\n",
        "optimizer_A = optim.Adam(model_A.parameters(), lr=0.0002)\n",
        "optimizer_B = optim.Adam(model_B.parameters(), lr=0.0002)\n"
      ],
      "metadata": {
        "id": "3-awU32gKVK-"
      },
      "execution_count": 21,
      "outputs": []
    },
    {
      "cell_type": "code",
      "source": [],
      "metadata": {
        "id": "QjLaFnsDq6bp"
      },
      "execution_count": 21,
      "outputs": []
    },
    {
      "cell_type": "code",
      "source": [
        "# Training loop for Model A (focus on car brands)\n",
        "num_epochs = 20\n",
        "for epoch in range(num_epochs):\n",
        "    model_A.train()\n",
        "    running_loss_A = 0.0\n",
        "\n",
        "    for images_brand, labels_brand in train_loader_logo:\n",
        "        images_brand, labels_brand = images_brand.to(device), labels_brand.to(device)\n",
        "\n",
        "        optimizer_A.zero_grad()\n",
        "\n",
        "        # Forward pass for Model A\n",
        "        brand_output_A, _ = model_A(images_brand)\n",
        "\n",
        "        # Calculate loss for Model A\n",
        "        loss_brand_A = criterion(brand_output_A, labels_brand)\n",
        "\n",
        "        loss_brand_A.backward()\n",
        "        optimizer_A.step()\n",
        "\n",
        "        running_loss_A += loss_brand_A.item()\n",
        "\n",
        "    print(f\"Epoch {epoch+1}/{num_epochs} - Loss Model A: {running_loss_A/len(train_loader_logo)}\")"
      ],
      "metadata": {
        "colab": {
          "base_uri": "https://localhost:8080/"
        },
        "id": "HHj-FDpSQDmI",
        "outputId": "ebd64200-6665-4d25-f5f9-50ad79af99cc"
      },
      "execution_count": 22,
      "outputs": [
        {
          "output_type": "stream",
          "name": "stdout",
          "text": [
            "Epoch 1/20 - Loss Model A: 0.5411279911670503\n",
            "Epoch 2/20 - Loss Model A: 0.22958336386216593\n",
            "Epoch 3/20 - Loss Model A: 0.1396992389772889\n",
            "Epoch 4/20 - Loss Model A: 0.13672796090994077\n",
            "Epoch 5/20 - Loss Model A: 0.10528416152383331\n",
            "Epoch 6/20 - Loss Model A: 0.0777480154286457\n",
            "Epoch 7/20 - Loss Model A: 0.083242902698738\n",
            "Epoch 8/20 - Loss Model A: 0.04190052135205014\n",
            "Epoch 9/20 - Loss Model A: 0.11674803831243204\n",
            "Epoch 10/20 - Loss Model A: 0.04127173554122778\n",
            "Epoch 11/20 - Loss Model A: 0.01773729246504652\n",
            "Epoch 12/20 - Loss Model A: 0.019085976241386342\n",
            "Epoch 13/20 - Loss Model A: 0.018060276931729402\n",
            "Epoch 14/20 - Loss Model A: 0.015497194920648832\n",
            "Epoch 15/20 - Loss Model A: 0.01183372186909465\n",
            "Epoch 16/20 - Loss Model A: 0.008651996234025147\n",
            "Epoch 17/20 - Loss Model A: 0.01881182526939702\n",
            "Epoch 18/20 - Loss Model A: 0.029408022519304192\n",
            "Epoch 19/20 - Loss Model A: 0.08727893292538444\n",
            "Epoch 20/20 - Loss Model A: 0.10043708230899293\n"
          ]
        }
      ]
    },
    {
      "cell_type": "code",
      "source": [
        "# Training loop for Model B (focus on car types)\n",
        "for epoch in range(num_epochs):\n",
        "    model_B.train()\n",
        "    running_loss_B = 0.0\n",
        "\n",
        "    for images_type, labels_type in train_loader_type:\n",
        "        images_type, labels_type = images_type.to(device), labels_type.to(device)\n",
        "\n",
        "        optimizer_B.zero_grad()\n",
        "\n",
        "        # Forward pass for Model B\n",
        "        _, type_output_B = model_B(images_type)\n",
        "\n",
        "        # Calculate loss for Model B\n",
        "        loss_type_B = criterion(type_output_B, labels_type)\n",
        "\n",
        "        loss_type_B.backward()\n",
        "        optimizer_B.step()\n",
        "\n",
        "        running_loss_B += loss_type_B.item()\n",
        "\n",
        "    print(f\"Epoch {epoch+1}/{num_epochs} - Loss Model B: {running_loss_B/len(train_loader_type)}\")\n"
      ],
      "metadata": {
        "colab": {
          "base_uri": "https://localhost:8080/"
        },
        "id": "jHwdxY_JP5YL",
        "outputId": "622aa46e-0eab-4101-d61f-341e4e3b1f59"
      },
      "execution_count": 23,
      "outputs": [
        {
          "output_type": "stream",
          "name": "stderr",
          "text": [
            "/usr/local/lib/python3.10/dist-packages/PIL/Image.py:996: UserWarning: Palette images with Transparency expressed in bytes should be converted to RGBA images\n",
            "  warnings.warn(\n"
          ]
        },
        {
          "output_type": "stream",
          "name": "stdout",
          "text": [
            "Epoch 1/20 - Loss Model B: 0.5209751173853874\n",
            "Epoch 2/20 - Loss Model B: 0.09701013136655093\n",
            "Epoch 3/20 - Loss Model B: 0.04764175214804709\n",
            "Epoch 4/20 - Loss Model B: 0.03984006460523233\n",
            "Epoch 5/20 - Loss Model B: 0.01318682029377669\n",
            "Epoch 6/20 - Loss Model B: 0.028398978372570126\n",
            "Epoch 7/20 - Loss Model B: 0.00817385276313871\n",
            "Epoch 8/20 - Loss Model B: 0.014136527443770319\n",
            "Epoch 9/20 - Loss Model B: 0.0014407838374609129\n",
            "Epoch 10/20 - Loss Model B: 0.001523553443257697\n",
            "Epoch 11/20 - Loss Model B: 0.0023249295802088453\n",
            "Epoch 12/20 - Loss Model B: 0.0019244461902417243\n",
            "Epoch 13/20 - Loss Model B: 0.0010162173333810643\n",
            "Epoch 14/20 - Loss Model B: 0.10967753491713665\n",
            "Epoch 15/20 - Loss Model B: 0.1390762772411108\n",
            "Epoch 16/20 - Loss Model B: 0.07667491752654314\n",
            "Epoch 17/20 - Loss Model B: 0.03450892218388617\n",
            "Epoch 18/20 - Loss Model B: 0.021188357938081027\n",
            "Epoch 19/20 - Loss Model B: 0.012174641236197204\n",
            "Epoch 20/20 - Loss Model B: 0.02627146309823729\n"
          ]
        }
      ]
    },
    {
      "cell_type": "code",
      "source": [
        "# Evaluation function\n",
        "def test_model(model, test_loader, device, task='type'):\n",
        "    model.eval()\n",
        "    model.to(device)\n",
        "    correct = 0\n",
        "    total = 0\n",
        "    with torch.no_grad():\n",
        "        for inputs, labels in test_loader:\n",
        "            inputs, labels = inputs.to(device), labels.to(device)\n",
        "            outputs = model(inputs)[0] if task == 'brand' else model(inputs)[1]\n",
        "            _, predicted = torch.max(outputs.data, 1)\n",
        "            total += labels.size(0)\n",
        "            correct += (predicted == labels).sum().item()\n",
        "    accuracy = 100 * correct / total\n",
        "    print(f'Test Accuracy ({task}): {accuracy:.2f}%')"
      ],
      "metadata": {
        "id": "XGSSpexOK3PK"
      },
      "execution_count": 24,
      "outputs": []
    },
    {
      "cell_type": "code",
      "source": [
        "\n",
        "print(\"\\nTesting Model A (car brands focus)...\")\n",
        "test_model(model_A, test_loader_logo, device, task='brand')  # Test Model A on car brands\n",
        "test_model(model_A, test_loader_type, device, task='type')  # Test Model A on car types\n"
      ],
      "metadata": {
        "colab": {
          "base_uri": "https://localhost:8080/"
        },
        "id": "u3sZ3XpnQQp0",
        "outputId": "6f38d484-c587-4c9f-c91c-9db3eae3a466"
      },
      "execution_count": 25,
      "outputs": [
        {
          "output_type": "stream",
          "name": "stdout",
          "text": [
            "\n",
            "Testing Model A (car brands focus)...\n",
            "Test Accuracy (brand): 87.00%\n",
            "Test Accuracy (type): 20.00%\n"
          ]
        }
      ]
    },
    {
      "cell_type": "code",
      "source": [
        "\n",
        "print(\"\\nTesting Model B (car types focus)...\")\n",
        "test_model(model_B, test_loader_logo, device, task='brand')  # Test Model B on car brands\n",
        "test_model(model_B, test_loader_type, device, task='type')  # Test Model B on car types"
      ],
      "metadata": {
        "colab": {
          "base_uri": "https://localhost:8080/"
        },
        "id": "Xhui7_6yQR-R",
        "outputId": "8493f1e7-3b33-4e09-8cff-f01ea43a5a51"
      },
      "execution_count": 26,
      "outputs": [
        {
          "output_type": "stream",
          "name": "stdout",
          "text": [
            "\n",
            "Testing Model B (car types focus)...\n",
            "Test Accuracy (brand): 9.00%\n",
            "Test Accuracy (type): 85.00%\n"
          ]
        }
      ]
    },
    {
      "cell_type": "code",
      "source": [
        "m_model_A = model_A\n",
        "f_model_A = model_A\n",
        "m_model_B = model_B\n",
        "f_model_B = model_B"
      ],
      "metadata": {
        "id": "K0o3GcikD8P3"
      },
      "execution_count": 27,
      "outputs": []
    },
    {
      "cell_type": "code",
      "source": [
        "#The Mutual Learning Process"
      ],
      "metadata": {
        "id": "yU2BOKuote-B"
      },
      "execution_count": 28,
      "outputs": []
    },
    {
      "cell_type": "code",
      "source": [
        "# Mutual learning loss function\n",
        "def mutual_learning_loss(output_A, output_B, target, T=2):\n",
        "    \"\"\"\n",
        "    Calculate the mutual learning loss, which is the Kullback-Leibler divergence between the\n",
        "    softmax outputs of model_A and model_B.\n",
        "    T is the temperature parameter for softening the logits.\n",
        "    \"\"\"\n",
        "    soft_A = nn.functional.log_softmax(output_A / T, dim=1)\n",
        "    soft_B = nn.functional.softmax(output_B / T, dim=1)\n",
        "    loss = nn.functional.kl_div(soft_A, soft_B, reduction='batchmean') * (T * T)\n",
        "    return loss"
      ],
      "metadata": {
        "id": "lkM4em7VoMRx"
      },
      "execution_count": 29,
      "outputs": []
    },
    {
      "cell_type": "code",
      "source": [
        "# Training loop with mutual learning\n",
        "num_epochs = 20\n",
        "lambda_ = 0.5  # Weight for mutual learning loss\n",
        "\n",
        "for epoch in range(num_epochs):\n",
        "    m_model_A.train()\n",
        "\n",
        "    running_loss_A = 0.0\n",
        "\n",
        "    # Model A focuses more on car brands, but also learns from car types\n",
        "    for (images_brand, labels_brand), (images_type, labels_type) in zip(train_loader_logo, train_loader_type):\n",
        "        images_brand, labels_brand = images_brand.to(device), labels_brand.to(device)\n",
        "        images_type, labels_type = images_type.to(device), labels_type.to(device)\n",
        "\n",
        "        optimizer_A.zero_grad()\n",
        "\n",
        "        # Forward pass for Model A\n",
        "        brand_output_A, type_output_A = m_model_A(images_brand)\n",
        "        type_output_A_2 = m_model_A(images_type)[1]  # Get type output for car types data\n",
        "\n",
        "        # Calculate losses for Model A\n",
        "        loss_brand_A = criterion(brand_output_A, labels_brand)\n",
        "        loss_type_A = criterion(type_output_A_2, labels_type)\n",
        "\n",
        "        with torch.no_grad():\n",
        "            brand_output_B, type_output_B = model_B(images_type)\n",
        "\n",
        "        # Mutual learning loss\n",
        "        mutual_loss_A = -torch.sum(torch.softmax(brand_output_B, dim=1) * torch.log_softmax(brand_output_A, dim=1), dim=1).mean()\n",
        "        mutual_loss_A += -torch.sum(torch.softmax(type_output_B, dim=1) * torch.log_softmax(type_output_A_2, dim=1), dim=1).mean()\n",
        "\n",
        "        # Total loss for Model A\n",
        "        total_loss_A = loss_brand_A + 0.5 * loss_type_A + lambda_ * mutual_loss_A\n",
        "        total_loss_A.backward()\n",
        "        optimizer_A.step()\n",
        "\n",
        "        running_loss_A += total_loss_A.item()\n",
        "\n",
        "\n",
        "    print(f\"Epoch {epoch+1}/{num_epochs} - Loss Model A: {running_loss_A/len(train_loader_type)}\")"
      ],
      "metadata": {
        "colab": {
          "base_uri": "https://localhost:8080/"
        },
        "id": "GJ3FlEf8KohW",
        "outputId": "5c3963a4-7fa8-41d1-ff00-16273f8549b5"
      },
      "execution_count": 30,
      "outputs": [
        {
          "output_type": "stream",
          "name": "stdout",
          "text": [
            "Epoch 1/20 - Loss Model A: 5.026371264457703\n",
            "Epoch 2/20 - Loss Model A: 2.91513352394104\n",
            "Epoch 3/20 - Loss Model A: 2.2428626298904417\n",
            "Epoch 4/20 - Loss Model A: 2.0343040585517884\n",
            "Epoch 5/20 - Loss Model A: 1.9160762548446655\n",
            "Epoch 6/20 - Loss Model A: 1.9003225207328795\n",
            "Epoch 7/20 - Loss Model A: 1.8379117369651794\n",
            "Epoch 8/20 - Loss Model A: 1.8443563580513\n",
            "Epoch 9/20 - Loss Model A: 1.832475483417511\n",
            "Epoch 10/20 - Loss Model A: 1.8221534848213197\n",
            "Epoch 11/20 - Loss Model A: 1.8034896016120912\n",
            "Epoch 12/20 - Loss Model A: 1.7944860339164734\n",
            "Epoch 13/20 - Loss Model A: 1.796592104434967\n",
            "Epoch 14/20 - Loss Model A: 1.7946195960044862\n",
            "Epoch 15/20 - Loss Model A: 1.7858216285705566\n",
            "Epoch 16/20 - Loss Model A: 1.787221646308899\n",
            "Epoch 17/20 - Loss Model A: 1.7758725881576538\n",
            "Epoch 18/20 - Loss Model A: 1.7915038228034974\n",
            "Epoch 19/20 - Loss Model A: 1.7984546422958374\n",
            "Epoch 20/20 - Loss Model A: 1.7783400893211365\n"
          ]
        }
      ]
    },
    {
      "cell_type": "code",
      "source": [
        "for epoch in range(num_epochs):\n",
        "  m_model_B.train()\n",
        "\n",
        "  running_loss_B = 0.0\n",
        "  # Model B focuses more on car types, but also learns from car brands\n",
        "  for (images_type, labels_type), (images_brand, labels_brand) in zip(train_loader_type, train_loader_logo):\n",
        "      images_type, labels_type = images_type.to(device), labels_type.to(device)\n",
        "      images_brand, labels_brand = images_brand.to(device), labels_brand.to(device)\n",
        "\n",
        "      optimizer_B.zero_grad()\n",
        "\n",
        "      # Forward pass for Model B\n",
        "      brand_output_B, type_output_B = m_model_B(images_brand)\n",
        "      type_output_B_2 = m_model_B(images_type)[1]  # Get type output for car types data\n",
        "\n",
        "      # Calculate losses for Model B\n",
        "      loss_type_B = criterion(type_output_B_2, labels_type)\n",
        "      loss_brand_B = criterion(brand_output_B, labels_brand)\n",
        "\n",
        "      with torch.no_grad():\n",
        "          brand_output_A, type_output_A = model_A(images_brand)\n",
        "\n",
        "      # Mutual learning loss\n",
        "      mutual_loss_B = -torch.sum(torch.softmax(brand_output_A, dim=1) * torch.log_softmax(brand_output_B, dim=1), dim=1).mean()\n",
        "      mutual_loss_B += -torch.sum(torch.softmax(type_output_A, dim=1) * torch.log_softmax(type_output_B_2, dim=1), dim=1).mean()\n",
        "\n",
        "      # Total loss for Model B\n",
        "      total_loss_B = loss_type_B + 0.5 * loss_brand_B + lambda_ * mutual_loss_B\n",
        "      total_loss_B.backward()\n",
        "      optimizer_B.step()\n",
        "\n",
        "      running_loss_B += total_loss_B.item()\n",
        "\n",
        "  print(f\"Epoch {epoch+1}/{num_epochs} - Loss Model B: {running_loss_B/len(train_loader_type)}\")"
      ],
      "metadata": {
        "colab": {
          "base_uri": "https://localhost:8080/"
        },
        "id": "2rBr2fAvL-fA",
        "outputId": "1d8a13f4-34a9-4972-9ba3-576ada75b43e"
      },
      "execution_count": 31,
      "outputs": [
        {
          "output_type": "stream",
          "name": "stdout",
          "text": [
            "Epoch 1/20 - Loss Model B: 4.6398731708526615\n",
            "Epoch 2/20 - Loss Model B: 3.3561201095581055\n",
            "Epoch 3/20 - Loss Model B: 2.7599645137786863\n",
            "Epoch 4/20 - Loss Model B: 2.5331584930419924\n",
            "Epoch 5/20 - Loss Model B: 2.3104799032211303\n",
            "Epoch 6/20 - Loss Model B: 2.3304309129714964\n",
            "Epoch 7/20 - Loss Model B: 2.2734689712524414\n",
            "Epoch 8/20 - Loss Model B: 2.2846449613571167\n",
            "Epoch 9/20 - Loss Model B: 2.233642339706421\n",
            "Epoch 10/20 - Loss Model B: 2.179830527305603\n",
            "Epoch 11/20 - Loss Model B: 2.169286918640137\n",
            "Epoch 12/20 - Loss Model B: 2.1491469621658323\n",
            "Epoch 13/20 - Loss Model B: 2.192752242088318\n",
            "Epoch 14/20 - Loss Model B: 2.208958387374878\n",
            "Epoch 15/20 - Loss Model B: 2.1352848291397093\n",
            "Epoch 16/20 - Loss Model B: 2.16834819316864\n",
            "Epoch 17/20 - Loss Model B: 2.132338523864746\n",
            "Epoch 18/20 - Loss Model B: 2.1471558213233948\n",
            "Epoch 19/20 - Loss Model B: 2.1208825588226317\n",
            "Epoch 20/20 - Loss Model B: 2.1240820050239564\n"
          ]
        }
      ]
    },
    {
      "cell_type": "code",
      "source": [
        "# Test the models\n",
        "test_model(m_model_A, test_loader_logo, device, task='brand')  # Test Model A on car brands\n",
        "test_model(m_model_A, test_loader_type, device, task='type')  # Test Model A on car types"
      ],
      "metadata": {
        "colab": {
          "base_uri": "https://localhost:8080/"
        },
        "id": "BNPUbno4LLho",
        "outputId": "27683a6d-f548-471e-b8a6-06926b8d1ddf"
      },
      "execution_count": 32,
      "outputs": [
        {
          "output_type": "stream",
          "name": "stdout",
          "text": [
            "Test Accuracy (brand): 88.00%\n",
            "Test Accuracy (type): 70.00%\n"
          ]
        }
      ]
    },
    {
      "cell_type": "code",
      "source": [
        "test_model(m_model_B, test_loader_logo, device, task='brand')  # Test Model B on car brands\n",
        "test_model(m_model_B, test_loader_type, device, task='type')  # Test Model B on car types"
      ],
      "metadata": {
        "colab": {
          "base_uri": "https://localhost:8080/"
        },
        "id": "QQhfAsqANCSo",
        "outputId": "3d790a01-dfa8-4d6c-eafa-8d3990603188"
      },
      "execution_count": 33,
      "outputs": [
        {
          "output_type": "stream",
          "name": "stdout",
          "text": [
            "Test Accuracy (brand): 85.00%\n",
            "Test Accuracy (type): 90.00%\n"
          ]
        }
      ]
    },
    {
      "cell_type": "code",
      "source": [],
      "metadata": {
        "id": "-mmoKo3fBJCE"
      },
      "execution_count": 33,
      "outputs": []
    },
    {
      "cell_type": "code",
      "source": [
        "# Feature level Model fusion\n",
        "class FusionModel(nn.Module):\n",
        "    def __init__(self, num_brand_classes, num_type_classes):\n",
        "        super(FusionModel, self).__init__()\n",
        "        # Assuming the output from both models has the same size, i.e., 2048 for ResNet50\n",
        "        self.fc_fusion_brand = nn.Linear(2 * num_brand_classes, num_brand_classes)\n",
        "        self.fc_fusion_type = nn.Linear(2 * num_type_classes, num_type_classes)\n",
        "\n",
        "    def forward(self, brand_output_A, brand_output_B, type_output_A, type_output_B):\n",
        "        # Concatenate outputs from Model A and Model B\n",
        "        fusion_brand = torch.cat((brand_output_A, brand_output_B), dim=1)\n",
        "        fusion_type = torch.cat((type_output_A, type_output_B), dim=1)\n",
        "\n",
        "        # Pass through the fully connected layer\n",
        "        fusion_brand_output = self.fc_fusion_brand(fusion_brand)\n",
        "        fusion_type_output = self.fc_fusion_type(fusion_type)\n",
        "\n",
        "        return fusion_brand_output, fusion_type_output"
      ],
      "metadata": {
        "id": "xL14WyW8OzUQ"
      },
      "execution_count": 34,
      "outputs": []
    },
    {
      "cell_type": "code",
      "source": [
        "# Instantiate the fusion model\n",
        "fusion_model = FusionModel(num_brand_classes=len(logoTrainData.classes), num_type_classes=len(carData.classes))\n",
        "fusion_model = fusion_model.to(device)\n",
        "\n",
        "# Define optimizer and loss function for the fusion model\n",
        "optimizer_fusion = optim.Adam(fusion_model.parameters(), lr=0.0001)\n",
        "criterion_fusion = nn.CrossEntropyLoss()\n",
        "\n",
        "# Training loop for the fusion model\n",
        "for epoch in range(num_epochs):\n",
        "    fusion_model.train()\n",
        "    running_loss_fusion = 0.0\n",
        "\n",
        "    # Loop through both datasets\n",
        "    for (images_brand, labels_brand), (images_type, labels_type) in zip(train_loader_logo, train_loader_type):\n",
        "        images_brand, labels_brand = images_brand.to(device), labels_brand.to(device)\n",
        "        images_type, labels_type = images_type.to(device), labels_type.to(device)\n",
        "\n",
        "        optimizer_fusion.zero_grad()\n",
        "\n",
        "        # Forward pass through Model A and Model B\n",
        "        brand_output_A, type_output_A = model_A(images_brand)\n",
        "        brand_output_B, type_output_B = model_B(images_type)\n",
        "\n",
        "        # Forward pass through the fusion model\n",
        "        fusion_brand_output, fusion_type_output = fusion_model(brand_output_A, brand_output_B, type_output_A, type_output_B)\n",
        "\n",
        "        # Calculate fusion loss\n",
        "        loss_fusion_brand = criterion_fusion(fusion_brand_output, labels_brand)\n",
        "        loss_fusion_type = criterion_fusion(fusion_type_output, labels_type)\n",
        "\n",
        "        total_loss_fusion = loss_fusion_brand + loss_fusion_type\n",
        "\n",
        "        total_loss_fusion.backward()\n",
        "        optimizer_fusion.step()\n",
        "\n",
        "        running_loss_fusion += total_loss_fusion.item()\n",
        "\n",
        "    print(f\"Epoch {epoch+1}/{num_epochs} - Fusion Model Loss: {running_loss_fusion/len(train_loader_logo)+len(train_loader_type)}\")\n",
        "\n"
      ],
      "metadata": {
        "colab": {
          "base_uri": "https://localhost:8080/"
        },
        "id": "Aj_1mWPwxivv",
        "outputId": "0dbe7a70-6e88-47cf-a0c2-8e9f891ac16e"
      },
      "execution_count": 35,
      "outputs": [
        {
          "output_type": "stream",
          "name": "stdout",
          "text": [
            "Epoch 1/20 - Fusion Model Loss: 10.47740428960776\n",
            "Epoch 2/20 - Fusion Model Loss: 10.48310658599757\n",
            "Epoch 3/20 - Fusion Model Loss: 10.480366613291487\n",
            "Epoch 4/20 - Fusion Model Loss: 10.48455049418196\n",
            "Epoch 5/20 - Fusion Model Loss: 10.464703846581374\n",
            "Epoch 6/20 - Fusion Model Loss: 10.470106734505183\n",
            "Epoch 7/20 - Fusion Model Loss: 10.476882925516442\n",
            "Epoch 8/20 - Fusion Model Loss: 10.480089996434465\n",
            "Epoch 9/20 - Fusion Model Loss: 10.469051883190494\n",
            "Epoch 10/20 - Fusion Model Loss: 10.468345614928234\n",
            "Epoch 11/20 - Fusion Model Loss: 10.464137164852287\n",
            "Epoch 12/20 - Fusion Model Loss: 10.4691123358811\n",
            "Epoch 13/20 - Fusion Model Loss: 10.465304145330116\n",
            "Epoch 14/20 - Fusion Model Loss: 10.457782283613954\n",
            "Epoch 15/20 - Fusion Model Loss: 10.463456479808952\n",
            "Epoch 16/20 - Fusion Model Loss: 10.46818857555148\n",
            "Epoch 17/20 - Fusion Model Loss: 10.454742268670964\n",
            "Epoch 18/20 - Fusion Model Loss: 10.459467414059217\n",
            "Epoch 19/20 - Fusion Model Loss: 10.452131893061384\n",
            "Epoch 20/20 - Fusion Model Loss: 10.45429568049274\n"
          ]
        }
      ]
    },
    {
      "cell_type": "code",
      "source": [
        "def test_fusion_model(model_A, model_B, fusion_model, test_loader, device, task='brand'):\n",
        "    model_A.eval()\n",
        "    model_B.eval()\n",
        "    fusion_model.eval()\n",
        "    model_A.to(device)\n",
        "    model_B.to(device)\n",
        "    fusion_model.to(device)\n",
        "\n",
        "    correct = 0\n",
        "    total = 0\n",
        "\n",
        "    with torch.no_grad():\n",
        "        for inputs, labels in test_loader:\n",
        "            inputs, labels = inputs.to(device), labels.to(device)\n",
        "\n",
        "            # Get outputs from both Model A and Model B\n",
        "            brand_output_A, type_output_A = model_A(inputs)\n",
        "            brand_output_B, type_output_B = model_B(inputs)\n",
        "\n",
        "            # Get the fusion model's output\n",
        "            if task == 'brand':\n",
        "                outputs = fusion_model(brand_output_A, brand_output_B, type_output_A, type_output_B)[0]\n",
        "            else:\n",
        "                outputs = fusion_model(brand_output_A, brand_output_B, type_output_A, type_output_B)[1]\n",
        "\n",
        "            _, predicted = torch.max(outputs.data, 1)\n",
        "            total += labels.size(0)\n",
        "            correct += (predicted == labels).sum().item()\n",
        "\n",
        "    accuracy = 100 * correct / total\n",
        "    print(f'Test Accuracy (Fusion Model - {task}): {accuracy:.2f}%')\n",
        "\n",
        "# Testing the fusion model on car brands and car types\n",
        "print(\"\\nTesting Fusion Model...\")\n",
        "test_fusion_model(f_model_A, f_model_B, fusion_model, test_loader_logo, device, task='brand')\n",
        "test_fusion_model(f_model_A, f_model_B, fusion_model, test_loader_type, device, task='type')\n"
      ],
      "metadata": {
        "colab": {
          "base_uri": "https://localhost:8080/"
        },
        "id": "in-TmQxP58Fp",
        "outputId": "a22d8ee6-234d-40db-8c39-fd9083fd840b"
      },
      "execution_count": 36,
      "outputs": [
        {
          "output_type": "stream",
          "name": "stdout",
          "text": [
            "\n",
            "Testing Fusion Model...\n",
            "Test Accuracy (Fusion Model - brand): 13.75%\n",
            "Test Accuracy (Fusion Model - type): 40.00%\n"
          ]
        }
      ]
    },
    {
      "cell_type": "code",
      "source": [
        "import torch.nn as nn\n",
        "\n",
        "class FusionModels(nn.Module):\n",
        "    def __init__(self, model_A, model_B):\n",
        "        super(FusionModels, self).__init__()  # Corrected to use the current class name\n",
        "        self.model_A = model_A\n",
        "        self.model_B = model_B\n",
        "\n",
        "    def forward(self, x):\n",
        "        # Forward pass through both models\n",
        "        brand_output_A, type_output_A = self.model_A(x)\n",
        "        brand_output_B, type_output_B = self.model_B(x)\n",
        "\n",
        "        # Averaging the outputs for fusion\n",
        "        fused_brand_output = (brand_output_A + brand_output_B) / 2\n",
        "        fused_type_output = (type_output_A + type_output_B) / 2\n",
        "\n",
        "        return fused_brand_output, fused_type_output\n"
      ],
      "metadata": {
        "id": "2faBjcUn60Mi"
      },
      "execution_count": 37,
      "outputs": []
    },
    {
      "cell_type": "code",
      "source": [
        "# Assuming model_A and model_B are already trained and available\n",
        "fusion_model = FusionModels(f_model_A, f_model_B).to(device)\n",
        "\n",
        "fusion_model.eval()  # Set the fusion model to evaluation mode\n",
        "\n",
        "correct_brand_fusion = 0\n",
        "total_brand_fusion = 0\n",
        "\n",
        "with torch.no_grad():  # Disable gradient calculation for testing\n",
        "    for images_brand, labels_brand in test_loader_logo:  # Test loader for car brands\n",
        "        images_brand, labels_brand = images_brand.to(device), labels_brand.to(device)\n",
        "\n",
        "        # Forward pass through the fusion model\n",
        "        fused_brand_output, _ = fusion_model(images_brand)\n",
        "\n",
        "        # Get predictions for car brands\n",
        "        _, predicted_brand_fusion = torch.max(fused_brand_output, 1)\n",
        "\n",
        "        # Update correct and total counts for brand prediction\n",
        "        total_brand_fusion += labels_brand.size(0)\n",
        "        correct_brand_fusion += (predicted_brand_fusion == labels_brand).sum().item()\n",
        "\n",
        "# Calculate accuracy for the fusion model on car brand classification\n",
        "accuracy_brand_fusion = 100 * correct_brand_fusion / total_brand_fusion\n",
        "print(f'Accuracy of Fusion Model on Car Brand Classification: {accuracy_brand_fusion:.2f}%')"
      ],
      "metadata": {
        "id": "2N8DcPtz5r4q",
        "colab": {
          "base_uri": "https://localhost:8080/"
        },
        "outputId": "304bf4c8-138d-4628-91d9-c0ba8171cce8"
      },
      "execution_count": 38,
      "outputs": [
        {
          "output_type": "stream",
          "name": "stdout",
          "text": [
            "Accuracy of Fusion Model on Car Brand Classification: 88.00%\n"
          ]
        }
      ]
    },
    {
      "cell_type": "code",
      "source": [
        "correct_type_fusion = 0\n",
        "total_type_fusion = 0\n",
        "\n",
        "with torch.no_grad():  # Disable gradient calculation for testing\n",
        "    for images_type, labels_type in test_loader_type:  # Test loader for car types\n",
        "        images_type, labels_type = images_type.to(device), labels_type.to(device)\n",
        "\n",
        "        # Forward pass through the fusion model\n",
        "        _, fused_type_output = fusion_model(images_type)\n",
        "\n",
        "        # Get predictions for car types\n",
        "        _, predicted_type_fusion = torch.max(fused_type_output, 1)\n",
        "\n",
        "        # Update correct and total counts for type prediction\n",
        "        total_type_fusion += labels_type.size(0)\n",
        "        correct_type_fusion += (predicted_type_fusion == labels_type).sum().item()\n",
        "\n",
        "# Calculate accuracy for the fusion model on car type classification\n",
        "accuracy_type_fusion = 100 * correct_type_fusion / total_type_fusion\n",
        "print(f'Accuracy of Fusion Model on Car Type Classification: {accuracy_type_fusion:.2f}%')\n"
      ],
      "metadata": {
        "colab": {
          "base_uri": "https://localhost:8080/"
        },
        "id": "n-sxIvDv6_Om",
        "outputId": "afd863fb-7b54-4071-a612-0b68e98b45f2"
      },
      "execution_count": 39,
      "outputs": [
        {
          "output_type": "stream",
          "name": "stdout",
          "text": [
            "Accuracy of Fusion Model on Car Type Classification: 77.50%\n"
          ]
        }
      ]
    },
    {
      "cell_type": "code",
      "source": [],
      "metadata": {
        "id": "_uKGSxLN8ofI"
      },
      "execution_count": null,
      "outputs": []
    }
  ],
  "metadata": {
    "accelerator": "GPU",
    "colab": {
      "gpuType": "L4",
      "provenance": []
    },
    "kernelspec": {
      "display_name": "Python 3",
      "name": "python3"
    },
    "language_info": {
      "name": "python"
    }
  },
  "nbformat": 4,
  "nbformat_minor": 0
}